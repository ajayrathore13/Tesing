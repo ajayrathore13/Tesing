{
 "cells": [
  {
   "cell_type": "code",
   "execution_count": 1,
   "metadata": {},
   "outputs": [
    {
     "name": "stderr",
     "output_type": "stream",
     "text": [
      "C:\\Users\\ajayrath\\AppData\\Local\\Temp/ipykernel_18684/526788576.py:44: FutureWarning: The frame.append method is deprecated and will be removed from pandas in a future version. Use pandas.concat instead.\n",
      "  combined_df = combined_df.append(df, ignore_index=True)\n"
     ]
    },
    {
     "name": "stdout",
     "output_type": "stream",
     "text": [
      "Error reading worksheet 'DPR' from file '//INN5FILER1V0001.corp.idemia.com/Work/MPB/Production/Data/MPB MIS/New DPR Report/2023/CurrentMonth\\~$05 MPB-DPR-MIS_MAY-23.xlsx': Excel file format cannot be determined, you must specify an engine manually.\n"
     ]
    }
   ],
   "source": [
    "import pandas as pd\n",
    "import os\n",
    "import openpyxl\n",
    "import pyxlsb\n",
    "import schedule\n",
    "import time\n",
    "import datetime\n",
    "def CurrentMonth():\n",
    "# Define the path to the folder containing the Excel files\n",
    "    folder_path = r\"//INN5FILER1V0001.corp.idemia.com/Work/MPB/Production/Data/MPB MIS/New DPR Report/2023/CurrentMonth\"\n",
    "\n",
    "        # Create an empty list to store the Excel files\n",
    "    excel_files = []\n",
    "\n",
    "        # Loop through the directory and its sub-directories to find Excel files\n",
    "    for root, dirs, files in os.walk(folder_path):\n",
    "        for file in files:\n",
    "            if file.endswith(\".xlsx\")  and \"DPR\" in file:\n",
    "                excel_files.append(os.path.join(root, file))\n",
    "\n",
    "    # Define the name of the worksheet you want to combine\n",
    "    sheet_name = \"DPR\"\n",
    "\n",
    "    # Define the list of columns you want to include\n",
    "    column_list = [\"PR No\", \"Perso Date\", \"Perso Qty.\",\"PR Qty\", \"Total Rej. Qty\", \n",
    "                   \"After perso pending for FF\",\"Machine Name\",\"Bank\"]\n",
    "\n",
    "    # Create an empty DataFrame to store the combined data\n",
    "    combined_df = pd.DataFrame()\n",
    "\n",
    "    # Loop through each Excel file and read the specified worksheet into a DataFrame\n",
    "    for file in excel_files:\n",
    "        try:\n",
    "            df = pd.read_excel(file, sheet_name=sheet_name, header=5)\n",
    "            df = df[column_list] # select only specified column \n",
    "            df['Perso Date'] = pd.to_datetime(df['Perso Date'])\n",
    "            df['Year'] = df['Perso Date'].dt.year\n",
    "            df['Month'] = df['Perso Date'].dt.month\n",
    "            max_date = df['Perso Date'].max()\n",
    "            max_year = max_date.year\n",
    "            max_month = max_date.month\n",
    "            df = df.loc[(df['Year'] == max_year) & (df['Month'] == max_month)]\n",
    "            df = df[df['Perso Date'].notna()]\n",
    "            combined_df = combined_df.append(df, ignore_index=True)\n",
    "            \n",
    "        except Exception as e:\n",
    "            print(f\"Error reading worksheet '{sheet_name}' from file '{file}': {e}\")\n",
    "                    # specify the file name\n",
    "    file_name = 'r\"//INN5FILER1V0001.corp.idemia.com/Work/FI Data Analytics/02. Datasets/DPR/CurrentMonth_Mumbai.xlsx\"'     \n",
    "            # check if the file already exists\n",
    "    if os.path.exists(file_name):\n",
    "        os.remove(file_name)  # delete the file if it exists\n",
    "\n",
    "    # Write the combined data to a new Excel file\n",
    "    combined_df.to_excel(r\"//INN5FILER1V0001.corp.idemia.com/Work/FI Data Analytics/02. Datasets/DPR/CurrentMonth_Mumbai.xlsx\", index=False)\n",
    "\n",
    "schedule.every().day.at(\"14:30\").do(CurrentMonth) \n",
    "schedule.every().day.at(\"17:05\").do(CurrentMonth)  \n",
    "#schedule.every().day.at(\"17:12\").do(PastMonths) \n",
    "while True:\n",
    "    schedule.run_pending()\n",
    "    time.sleep(1)\n"
   ]
  },
  {
   "cell_type": "code",
   "execution_count": 10,
   "metadata": {},
   "outputs": [
    {
     "name": "stderr",
     "output_type": "stream",
     "text": [
      "C:\\Users\\ajayrath\\AppData\\Local\\Temp/ipykernel_15228/32283334.py:45: FutureWarning: The frame.append method is deprecated and will be removed from pandas in a future version. Use pandas.concat instead.\n",
      "  combined_df = combined_df.append(df, ignore_index=True)\n"
     ]
    },
    {
     "name": "stdout",
     "output_type": "stream",
     "text": [
      "Error reading worksheet 'Banking Perso performance' from file '//INN5FILER1V0001.corp.idemia.com/Work/MPB/Production/Data/MPB MIS/New DPR Report/2023/CurrentMonth\\~$05 MPB-DPR-MIS_MAY-23.xlsx': Excel file format cannot be determined, you must specify an engine manually.\n",
      "Error reading worksheet 'Banking Perso performance' from file '//INN5FILER1V0001.corp.idemia.com/Work/MPB/Production/Data/MPB MIS/New DPR Report/2023/CurrentMonth\\~$06 MPB-DPR-MIS_JUNE-23.xlsx': [Errno 13] Permission denied: '//INN5FILER1V0001.corp.idemia.com/Work/MPB/Production/Data/MPB MIS/New DPR Report/2023/CurrentMonth\\\\~$06 MPB-DPR-MIS_JUNE-23.xlsx'\n"
     ]
    },
    {
     "name": "stderr",
     "output_type": "stream",
     "text": [
      "C:\\Users\\ajayrath\\AppData\\Local\\Temp/ipykernel_15228/32283334.py:45: FutureWarning: The frame.append method is deprecated and will be removed from pandas in a future version. Use pandas.concat instead.\n",
      "  combined_df = combined_df.append(df, ignore_index=True)\n"
     ]
    },
    {
     "name": "stdout",
     "output_type": "stream",
     "text": [
      "Error reading worksheet 'Banking Perso performance' from file '//INN5FILER1V0001.corp.idemia.com/Work/MPB/Production/Data/MPB MIS/New DPR Report/2023/CurrentMonth\\~$05 MPB-DPR-MIS_MAY-23.xlsx': Excel file format cannot be determined, you must specify an engine manually.\n",
      "Error reading worksheet 'Banking Perso performance' from file '//INN5FILER1V0001.corp.idemia.com/Work/MPB/Production/Data/MPB MIS/New DPR Report/2023/CurrentMonth\\~$06 MPB-DPR-MIS_JUNE-23.xlsx': [Errno 13] Permission denied: '//INN5FILER1V0001.corp.idemia.com/Work/MPB/Production/Data/MPB MIS/New DPR Report/2023/CurrentMonth\\\\~$06 MPB-DPR-MIS_JUNE-23.xlsx'\n"
     ]
    },
    {
     "name": "stderr",
     "output_type": "stream",
     "text": [
      "C:\\Users\\ajayrath\\AppData\\Local\\Temp/ipykernel_15228/32283334.py:45: FutureWarning: The frame.append method is deprecated and will be removed from pandas in a future version. Use pandas.concat instead.\n",
      "  combined_df = combined_df.append(df, ignore_index=True)\n"
     ]
    },
    {
     "name": "stdout",
     "output_type": "stream",
     "text": [
      "Error reading worksheet 'Banking Perso performance' from file '//INN5FILER1V0001.corp.idemia.com/Work/MPB/Production/Data/MPB MIS/New DPR Report/2023/CurrentMonth\\~$05 MPB-DPR-MIS_MAY-23.xlsx': Excel file format cannot be determined, you must specify an engine manually.\n",
      "Error reading worksheet 'Banking Perso performance' from file '//INN5FILER1V0001.corp.idemia.com/Work/MPB/Production/Data/MPB MIS/New DPR Report/2023/CurrentMonth\\~$06 MPB-DPR-MIS_JUNE-23.xlsx': [Errno 13] Permission denied: '//INN5FILER1V0001.corp.idemia.com/Work/MPB/Production/Data/MPB MIS/New DPR Report/2023/CurrentMonth\\\\~$06 MPB-DPR-MIS_JUNE-23.xlsx'\n"
     ]
    },
    {
     "name": "stderr",
     "output_type": "stream",
     "text": [
      "C:\\Users\\ajayrath\\AppData\\Local\\Temp/ipykernel_15228/32283334.py:45: FutureWarning: The frame.append method is deprecated and will be removed from pandas in a future version. Use pandas.concat instead.\n",
      "  combined_df = combined_df.append(df, ignore_index=True)\n"
     ]
    },
    {
     "name": "stdout",
     "output_type": "stream",
     "text": [
      "Error reading worksheet 'Banking Perso performance' from file '//INN5FILER1V0001.corp.idemia.com/Work/MPB/Production/Data/MPB MIS/New DPR Report/2023/CurrentMonth\\~$05 MPB-DPR-MIS_MAY-23.xlsx': Excel file format cannot be determined, you must specify an engine manually.\n",
      "Error reading worksheet 'Banking Perso performance' from file '//INN5FILER1V0001.corp.idemia.com/Work/MPB/Production/Data/MPB MIS/New DPR Report/2023/CurrentMonth\\~$06 MPB-DPR-MIS_JUNE-23.xlsx': [Errno 13] Permission denied: '//INN5FILER1V0001.corp.idemia.com/Work/MPB/Production/Data/MPB MIS/New DPR Report/2023/CurrentMonth\\\\~$06 MPB-DPR-MIS_JUNE-23.xlsx'\n"
     ]
    },
    {
     "name": "stderr",
     "output_type": "stream",
     "text": [
      "C:\\Users\\ajayrath\\AppData\\Local\\Temp/ipykernel_15228/32283334.py:45: FutureWarning: The frame.append method is deprecated and will be removed from pandas in a future version. Use pandas.concat instead.\n",
      "  combined_df = combined_df.append(df, ignore_index=True)\n"
     ]
    },
    {
     "name": "stdout",
     "output_type": "stream",
     "text": [
      "Error reading worksheet 'Banking Perso performance' from file '//INN5FILER1V0001.corp.idemia.com/Work/MPB/Production/Data/MPB MIS/New DPR Report/2023/CurrentMonth\\~$05 MPB-DPR-MIS_MAY-23.xlsx': Excel file format cannot be determined, you must specify an engine manually.\n",
      "Error reading worksheet 'Banking Perso performance' from file '//INN5FILER1V0001.corp.idemia.com/Work/MPB/Production/Data/MPB MIS/New DPR Report/2023/CurrentMonth\\~$06 MPB-DPR-MIS_JUNE-23.xlsx': [Errno 13] Permission denied: '//INN5FILER1V0001.corp.idemia.com/Work/MPB/Production/Data/MPB MIS/New DPR Report/2023/CurrentMonth\\\\~$06 MPB-DPR-MIS_JUNE-23.xlsx'\n"
     ]
    },
    {
     "name": "stderr",
     "output_type": "stream",
     "text": [
      "C:\\Users\\ajayrath\\AppData\\Local\\Temp/ipykernel_15228/32283334.py:45: FutureWarning: The frame.append method is deprecated and will be removed from pandas in a future version. Use pandas.concat instead.\n",
      "  combined_df = combined_df.append(df, ignore_index=True)\n"
     ]
    },
    {
     "name": "stdout",
     "output_type": "stream",
     "text": [
      "Error reading worksheet 'Banking Perso performance' from file '//INN5FILER1V0001.corp.idemia.com/Work/MPB/Production/Data/MPB MIS/New DPR Report/2023/CurrentMonth\\~$05 MPB-DPR-MIS_MAY-23.xlsx': Excel file format cannot be determined, you must specify an engine manually.\n",
      "Error reading worksheet 'Banking Perso performance' from file '//INN5FILER1V0001.corp.idemia.com/Work/MPB/Production/Data/MPB MIS/New DPR Report/2023/CurrentMonth\\~$06 MPB-DPR-MIS_JUNE-23.xlsx': [Errno 13] Permission denied: '//INN5FILER1V0001.corp.idemia.com/Work/MPB/Production/Data/MPB MIS/New DPR Report/2023/CurrentMonth\\\\~$06 MPB-DPR-MIS_JUNE-23.xlsx'\n"
     ]
    },
    {
     "name": "stderr",
     "output_type": "stream",
     "text": [
      "C:\\Users\\ajayrath\\AppData\\Local\\Temp/ipykernel_15228/32283334.py:45: FutureWarning: The frame.append method is deprecated and will be removed from pandas in a future version. Use pandas.concat instead.\n",
      "  combined_df = combined_df.append(df, ignore_index=True)\n"
     ]
    },
    {
     "name": "stdout",
     "output_type": "stream",
     "text": [
      "Error reading worksheet 'Banking Perso performance' from file '//INN5FILER1V0001.corp.idemia.com/Work/MPB/Production/Data/MPB MIS/New DPR Report/2023/CurrentMonth\\~$05 MPB-DPR-MIS_MAY-23.xlsx': Excel file format cannot be determined, you must specify an engine manually.\n",
      "Error reading worksheet 'Banking Perso performance' from file '//INN5FILER1V0001.corp.idemia.com/Work/MPB/Production/Data/MPB MIS/New DPR Report/2023/CurrentMonth\\~$06 MPB-DPR-MIS_JUNE-23.xlsx': [Errno 13] Permission denied: '//INN5FILER1V0001.corp.idemia.com/Work/MPB/Production/Data/MPB MIS/New DPR Report/2023/CurrentMonth\\\\~$06 MPB-DPR-MIS_JUNE-23.xlsx'\n"
     ]
    }
   ],
   "source": [
    "import pandas as pd\n",
    "import os\n",
    "import openpyxl\n",
    "import pyxlsb\n",
    "import schedule\n",
    "import time\n",
    "import datetime\n",
    "def PastMonthsPP():\n",
    "    if datetime.date.today().day <= 3:\n",
    "    # Define the path to the folder containing the Excel files\n",
    "        folder_path = r\"//INN5FILER1V0001.corp.idemia.com/Work/MPB/Production/Data/MPB MIS/New DPR Report/2023/PastMonths/MayOnwardWithMachineDetails\"\n",
    "\n",
    "        # Create an empty list to store the Excel files\n",
    "        excel_files = []\n",
    "\n",
    "        # Loop through the directory and its sub-directories to find Excel files\n",
    "        for root, dirs, files in os.walk(folder_path):\n",
    "            for file in files:\n",
    "                if file.endswith(\".xlsx\")  and \"DPR\" in file:\n",
    "                    excel_files.append(os.path.join(root, file))\n",
    "\n",
    "        # Define the name of the worksheet you want to combine\n",
    "        sheet_name = \"Banking Perso performance\"\n",
    "\n",
    "        # Define the list of columns you want to include\n",
    "        column_list = [\"Date\",\"Total Man Power (as per HR Record)\",\"Total Present man Power\",\n",
    "                    \"OT Operators\",\"Total OT HRs\",\"Total Man Hours\"]\n",
    "\n",
    "        # Create an empty DataFrame to store the combined data\n",
    "        combined_df = pd.DataFrame()\n",
    "\n",
    "        # Loop through each Excel file and read the specified worksheet into a DataFrame\n",
    "        for file in excel_files:\n",
    "            try:\n",
    "                df = pd.read_excel(file, sheet_name=sheet_name, header=2)\n",
    "                df = df[column_list] # select only specified column \n",
    "                # df['Perso Date'] = pd.to_datetime(df['Perso Date'] )\n",
    "                # df['Year'] = df['Perso Date'].dt.year\n",
    "                # df['Month'] = df['Perso Date'].dt.month\n",
    "                # max_date = df['Perso Date'].max()\n",
    "                # max_year = max_date.year\n",
    "                # max_month = max_date.month\n",
    "                # df = df.loc[(df['Year'] == max_year) & (df['Month'] == max_month)]\n",
    "                # df = df[df['Perso Date'].notna()]\n",
    "                combined_df = combined_df.append(df, ignore_index=True)\n",
    "\n",
    "            except Exception as e:\n",
    "                print(f\"Error reading worksheet '{sheet_name}' from file '{file}': {e}\")\n",
    "\n",
    "            # specify the file name\n",
    "        file_name = 'r\"//INN5FILER1V0001.corp.idemia.com/Work/FI Data Analytics/02. Datasets/DPR/PastmonthPP_Mumbai.xlsx\"'     \n",
    "            # check if the file already exists\n",
    "        if os.path.exists(file_name):\n",
    "            os.remove(file_name)  # delete the file if it exists\n",
    "\n",
    "        # Write the combined data to a new Excel file\n",
    "        #combined_df\n",
    "\n",
    "        combined_df.to_excel(r\"//INN5FILER1V0001.corp.idemia.com/Work/FI Data Analytics/02. Datasets/DPR/PastmonthPP_Mumbai.xlsx\", index=False)\n",
    "schedule.every().day.at(\"09:46\").do(PastMonthsPP) \n",
    "#schedule.every().day.at(\"17:05\").do(CurrentMonth)  \n",
    "#schedule.every().day.at(\"17:12\").do(PastMonths) \n",
    "while True:\n",
    "    schedule.run_pending()\n",
    "    time.sleep(1)"
   ]
  },
  {
   "cell_type": "code",
   "execution_count": 7,
   "metadata": {},
   "outputs": [
    {
     "ename": "NameError",
     "evalue": "name 'CurrentMonth' is not defined",
     "output_type": "error",
     "traceback": [
      "\u001b[1;31m---------------------------------------------------------------------------\u001b[0m",
      "\u001b[1;31mNameError\u001b[0m                                 Traceback (most recent call last)",
      "\u001b[1;32m~\\AppData\\Local\\Temp/ipykernel_15228/32283334.py\u001b[0m in \u001b[0;36m<module>\u001b[1;34m\u001b[0m\n\u001b[0;32m     59\u001b[0m     \u001b[0mcombined_df\u001b[0m\u001b[1;33m.\u001b[0m\u001b[0mto_excel\u001b[0m\u001b[1;33m(\u001b[0m\u001b[1;34mr\"//INN5FILER1V0001.corp.idemia.com/Work/FI Data Analytics/02. Datasets/DPR/CurrentmonthPP_Mumbai.xlsx\"\u001b[0m\u001b[1;33m,\u001b[0m \u001b[0mindex\u001b[0m\u001b[1;33m=\u001b[0m\u001b[1;32mFalse\u001b[0m\u001b[1;33m)\u001b[0m\u001b[1;33m\u001b[0m\u001b[1;33m\u001b[0m\u001b[0m\n\u001b[0;32m     60\u001b[0m \u001b[0mschedule\u001b[0m\u001b[1;33m.\u001b[0m\u001b[0mevery\u001b[0m\u001b[1;33m(\u001b[0m\u001b[1;33m)\u001b[0m\u001b[1;33m.\u001b[0m\u001b[0mday\u001b[0m\u001b[1;33m.\u001b[0m\u001b[0mat\u001b[0m\u001b[1;33m(\u001b[0m\u001b[1;34m\"14:30\"\u001b[0m\u001b[1;33m)\u001b[0m\u001b[1;33m.\u001b[0m\u001b[0mdo\u001b[0m\u001b[1;33m(\u001b[0m\u001b[0mCurrnetMonthsPP\u001b[0m\u001b[1;33m)\u001b[0m\u001b[1;33m\u001b[0m\u001b[1;33m\u001b[0m\u001b[0m\n\u001b[1;32m---> 61\u001b[1;33m \u001b[0mschedule\u001b[0m\u001b[1;33m.\u001b[0m\u001b[0mevery\u001b[0m\u001b[1;33m(\u001b[0m\u001b[1;33m)\u001b[0m\u001b[1;33m.\u001b[0m\u001b[0mday\u001b[0m\u001b[1;33m.\u001b[0m\u001b[0mat\u001b[0m\u001b[1;33m(\u001b[0m\u001b[1;34m\"17:05\"\u001b[0m\u001b[1;33m)\u001b[0m\u001b[1;33m.\u001b[0m\u001b[0mdo\u001b[0m\u001b[1;33m(\u001b[0m\u001b[0mCurrentMonth\u001b[0m\u001b[1;33m)\u001b[0m\u001b[1;33m\u001b[0m\u001b[1;33m\u001b[0m\u001b[0m\n\u001b[0m\u001b[0;32m     62\u001b[0m \u001b[1;31m#schedule.every().day.at(\"17:12\").do(PastMonths)\u001b[0m\u001b[1;33m\u001b[0m\u001b[1;33m\u001b[0m\u001b[1;33m\u001b[0m\u001b[0m\n\u001b[0;32m     63\u001b[0m \u001b[1;32mwhile\u001b[0m \u001b[1;32mTrue\u001b[0m\u001b[1;33m:\u001b[0m\u001b[1;33m\u001b[0m\u001b[1;33m\u001b[0m\u001b[0m\n",
      "\u001b[1;31mNameError\u001b[0m: name 'CurrentMonth' is not defined"
     ]
    }
   ],
   "source": [
    "import pandas as pd\n",
    "import os\n",
    "import openpyxl\n",
    "import pyxlsb\n",
    "import schedule\n",
    "import time\n",
    "import datetime\n",
    "def CurrnetMonthsPP():\n",
    "#if datetime.date.today().day <= 3:\n",
    "# Define the path to the folder containing the Excel files\n",
    "    folder_path = r\"//INN5FILER1V0001.corp.idemia.com/Work/MPB/Production/Data/MPB MIS/New DPR Report/2023/CurrentMonth\"\n",
    "\n",
    "    # Create an empty list to store the Excel files\n",
    "    excel_files = []\n",
    "\n",
    "    # Loop through the directory and its sub-directories to find Excel files\n",
    "    for root, dirs, files in os.walk(folder_path):\n",
    "        for file in files:\n",
    "            if file.endswith(\".xlsx\")  and \"DPR\" in file:\n",
    "                excel_files.append(os.path.join(root, file))\n",
    "\n",
    "    # Define the name of the worksheet you want to combine\n",
    "    sheet_name = \"Banking Perso performance\"\n",
    "\n",
    "    # Define the list of columns you want to include\n",
    "    column_list = [\"Date\",\"Total Man Power (as per HR Record)\",\"Total Present man Power\",\n",
    "                   \"OT Operators\",\"Total OT HRs\",\"Total Man Hours\"]\n",
    "\n",
    "    # Create an empty DataFrame to store the combined data\n",
    "    combined_df = pd.DataFrame()\n",
    "\n",
    "    # Loop through each Excel file and read the specified worksheet into a DataFrame\n",
    "    for file in excel_files:\n",
    "        try:\n",
    "            df = pd.read_excel(file, sheet_name=sheet_name, header=2)\n",
    "            df = df[column_list] # select only specified column \n",
    "            # df['Perso Date'] = pd.to_datetime(df['Perso Date'] )\n",
    "            # df['Year'] = df['Perso Date'].dt.year\n",
    "            # df['Month'] = df['Perso Date'].dt.month\n",
    "            # max_date = df['Perso Date'].max()\n",
    "            # max_year = max_date.year\n",
    "            # max_month = max_date.month\n",
    "            # df = df.loc[(df['Year'] == max_year) & (df['Month'] == max_month)]\n",
    "            # df = df[df['Perso Date'].notna()]\n",
    "            combined_df = combined_df.append(df, ignore_index=True)\n",
    "\n",
    "        except Exception as e:\n",
    "            print(f\"Error reading worksheet '{sheet_name}' from file '{file}': {e}\")\n",
    "\n",
    "        # specify the file name\n",
    "    file_name = 'r\"//INN5FILER1V0001.corp.idemia.com/Work/FI Data Analytics/02. Datasets/DPR/CurrentmonthPP_Mumbai.xlsx\"'     \n",
    "        # check if the file already exists\n",
    "    if os.path.exists(file_name):\n",
    "        os.remove(file_name)  # delete the file if it exists\n",
    "\n",
    "    # Write the combined data to a new Excel file\n",
    "    #combined_df\n",
    "\n",
    "    combined_df.to_excel(r\"//INN5FILER1V0001.corp.idemia.com/Work/FI Data Analytics/02. Datasets/DPR/CurrentmonthPP_Mumbai.xlsx\", index=False)\n",
    "schedule.every().day.at(\"14:30\").do(CurrnetMonthsPP) \n",
    "#schedule.every().day.at(\"17:05\").do(CurrentMonth)  \n",
    "#schedule.every().day.at(\"17:12\").do(PastMonths) \n",
    "while True:\n",
    "    schedule.run_pending()\n",
    "    time.sleep(1)"
   ]
  },
  {
   "cell_type": "code",
   "execution_count": null,
   "metadata": {},
   "outputs": [],
   "source": [
    "import pandas as pd\n",
    "import os\n",
    "import openpyxl\n",
    "import pyxlsb\n",
    "import schedule\n",
    "import time\n",
    "import datetime\n",
    "#def CurrnetMonthsPPNoida():\n",
    "#if datetime.date.today().day <= 3:\n",
    "# Define the path to the folder containing the Excel files\n",
    "    folder_path = r\"//INN5FILER1V0001.corp.idemia.com/Work/Banking Bureau/Data/BPB MIS/DAILY BPB MIS/1. DPR DATA/1. 2023\"\n",
    "\n",
    "    # Create an empty list to store the Excel files\n",
    "    excel_files = []\n",
    "\n",
    "    # Loop through the directory and its sub-directories to find Excel files\n",
    "    for root, dirs, files in os.walk(folder_path):\n",
    "        for file in files:\n",
    "            if file.endswith(\".xlsx\")  and \"DPR\" in file:\n",
    "                excel_files.append(os.path.join(root, file))\n",
    "\n",
    "    # Define the name of the worksheet you want to combine\n",
    "    sheet_name = \"Banking Perso performance\"\n",
    "\n",
    "    # Define the list of columns you want to include\n",
    "    column_list = [\"Date\",\"Total Man Power (as per HR Record)\",\"Total Present man Power\",\n",
    "                   \"OT Operators\",\"Total OT HRs\",\"Total Man Hours\"]\n",
    "\n",
    "    # Create an empty DataFrame to store the combined data\n",
    "    combined_df = pd.DataFrame()\n",
    "\n",
    "    # Loop through each Excel file and read the specified worksheet into a DataFrame\n",
    "    for file in excel_files:\n",
    "        try:\n",
    "            df = pd.read_excel(file, sheet_name=sheet_name, header=2)\n",
    "            df = df[column_list] # select only specified column \n",
    "            # df['Perso Date'] = pd.to_datetime(df['Perso Date'] )\n",
    "            # df['Year'] = df['Perso Date'].dt.year\n",
    "            # df['Month'] = df['Perso Date'].dt.month\n",
    "            # max_date = df['Perso Date'].max()\n",
    "            # max_year = max_date.year\n",
    "            # max_month = max_date.month\n",
    "            # df = df.loc[(df['Year'] == max_year) & (df['Month'] == max_month)]\n",
    "            # df = df[df['Perso Date'].notna()]\n",
    "            combined_df = combined_df.append(df, ignore_index=True)\n",
    "\n",
    "        except Exception as e:\n",
    "            print(f\"Error reading worksheet '{sheet_name}' from file '{file}': {e}\")\n",
    "\n",
    "        # specify the file name\n",
    "    file_name = 'r\"//INN5FILER1V0001.corp.idemia.com/Work/FI Data Analytics/02. Datasets/DPR/CurrentmonthPP_Noida.xlsx\"'     \n",
    "        # check if the file already exists\n",
    "    if os.path.exists(file_name):\n",
    "        os.remove(file_name)  # delete the file if it exists\n",
    "\n",
    "    # Write the combined data to a new Excel file\n",
    "    #combined_df\n",
    "\n",
    "    combined_df.to_excel(r\"//INN5FILER1V0001.corp.idemia.com/Work/FI Data Analytics/02. Datasets/DPR/CurrentmonthPP_Noida.xlsx\", index=False)\n",
    "# schedule.every().day.at(\"14:30\").do(CurrnetMonthsPP) \n",
    "# #schedule.every().day.at(\"17:05\").do(CurrentMonth)  \n",
    "# #schedule.every().day.at(\"17:12\").do(PastMonths) \n",
    "# while True:\n",
    "#     schedule.run_pending()\n",
    "#     time.sleep(1)"
   ]
  }
 ],
 "metadata": {
  "kernelspec": {
   "display_name": "Python 3",
   "language": "python",
   "name": "python3"
  },
  "language_info": {
   "codemirror_mode": {
    "name": "ipython",
    "version": 3
   },
   "file_extension": ".py",
   "mimetype": "text/x-python",
   "name": "python",
   "nbconvert_exporter": "python",
   "pygments_lexer": "ipython3",
   "version": "3.9.5"
  },
  "orig_nbformat": 4
 },
 "nbformat": 4,
 "nbformat_minor": 2
}
