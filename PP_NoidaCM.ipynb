{
 "cells": [
  {
   "cell_type": "code",
   "execution_count": null,
   "metadata": {},
   "outputs": [
    {
     "ename": "",
     "evalue": "",
     "output_type": "error",
     "traceback": [
      "\u001b[1;31mFailed to start the Kernel. \n",
      "\u001b[1;31mUnable to start Kernel 'Python 3.9.5' due to connection timeout. \n",
      "\u001b[1;31mView Jupyter <a href='command:jupyter.viewOutput'>log</a> for further details."
     ]
    }
   ],
   "source": [
    "import pandas as pd\n",
    "import os\n",
    "import openpyxl\n",
    "import pyxlsb\n",
    "import schedule\n",
    "import time\n",
    "import datetime\n",
    "#def CurrnetMonthsPPNoida():\n",
    "#if datetime.date.today().day <= 3:\n",
    "# Define the path to the folder containing the Excel files\n",
    "folder_path = r\"//INN5FILER1V0001.corp.idemia.com/Work/Banking Bureau/Data/BPB MIS/DAILY BPB MIS/1. DPR DATA/1. 2023\"\n",
    "\n",
    "# Create an empty list to store the Excel files\n",
    "excel_files = []\n",
    "\n",
    "# Loop through the directory and its sub-directories to find Excel files\n",
    "for root, dirs, files in os.walk(folder_path):\n",
    "    for file in files:\n",
    "        if file.endswith(\".xlsb\")  and \"DPR\" in file:\n",
    "            excel_files.append(os.path.join(root, file))\n",
    "\n",
    "# Define the name of the worksheet you want to combine\n",
    "sheet_name = \"Banking Perso performance\"\n",
    "\n",
    "\n",
    "# Define the list of columns you want to include\n",
    "column_list = [\"Date\",\"Total Man Power (as per HR Record)\",\"Total Present\",\n",
    "               \"OT Operators\",\"Total OT HRs\",\"Total Man Hours\"]\n",
    "\n",
    "# Create an empty DataFrame to store the combined data\n",
    "combined_df = pd.DataFrame()\n",
    "\n",
    "# Loop through each Excel file and read the specified worksheet into a DataFrame\n",
    "for file in excel_files:\n",
    "    try:\n",
    "        df = pd.read_excel(file, sheet_name=sheet_name, engine='pyxlsb', header=1)\n",
    "        df = df[column_list] # select only specified column \n",
    "        # df['Perso Date'] = pd.to_datetime(df['Perso Date'] )\n",
    "        # df['Year'] = df['Perso Date'].dt.year\n",
    "        # df['Month'] = df['Perso Date'].dt.month\n",
    "        # max_date = df['Perso Date'].max()\n",
    "        # max_year = max_date.year\n",
    "        # max_month = max_date.month\n",
    "        # df = df.loc[(df['Year'] == max_year) & (df['Month'] == max_month)]\n",
    "        # df = df[df['Perso Date'].notna()]\n",
    "        combined_df = combined_df.append(df, ignore_index=True)\n",
    "\n",
    "    except Exception as e:\n",
    "        print(f\"Error reading worksheet '{sheet_name}' from file '{file}': {e}\")\n",
    "\n",
    "    # specify the file name\n",
    "file_name = 'r\"//INN5FILER1V0001.corp.idemia.com/Work/FI Data Analytics/02. Datasets/DPR/CurrentmonthPP_Noida.xlsx\"'     \n",
    "    # check if the file already exists\n",
    "if os.path.exists(file_name):\n",
    "    os.remove(file_name)  # delete the file if it exists\n",
    "\n",
    "# Write the combined data to a new Excel file\n",
    "#combined_df\n",
    "\n",
    "combined_df.to_excel(r\"//INN5FILER1V0001.corp.idemia.com/Work/FI Data Analytics/02. Datasets/DPR/CurrentmonthPP_Noida.xlsx\", index=False)\n",
    "# schedule.every().day.at(\"14:30\").do(CurrnetMonthsPP) \n",
    "# #schedule.every().day.at(\"17:05\").do(CurrentMonth)  \n",
    "# #schedule.every().day.at(\"17:12\").do(PastMonths) \n",
    "# while True:\n",
    "#     schedule.run_pending()\n",
    "#     time.sleep(1)"
   ]
  },
  {
   "cell_type": "code",
   "execution_count": null,
   "metadata": {},
   "outputs": [
    {
     "ename": "",
     "evalue": "",
     "output_type": "error",
     "traceback": [
      "\u001b[1;31mFailed to start the Kernel. \n",
      "\u001b[1;31mUnable to start Kernel 'Python 3.9.5' due to connection timeout. \n",
      "\u001b[1;31mView Jupyter <a href='command:jupyter.viewOutput'>log</a> for further details."
     ]
    }
   ],
   "source": [
    "print(\"a\")"
   ]
  }
 ],
 "metadata": {
  "kernelspec": {
   "display_name": "Python 3",
   "language": "python",
   "name": "python3"
  },
  "language_info": {
   "name": "python",
   "version": "3.9.5"
  },
  "orig_nbformat": 4
 },
 "nbformat": 4,
 "nbformat_minor": 2
}
